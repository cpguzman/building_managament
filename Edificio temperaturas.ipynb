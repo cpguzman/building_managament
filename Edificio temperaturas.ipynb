{
 "cells": [
  {
   "cell_type": "code",
   "execution_count": 1,
   "metadata": {},
   "outputs": [
    {
     "name": "stderr",
     "output_type": "stream",
     "text": [
      "C:\\Users\\JPSM1\\AppData\\Local\\Temp\\ipykernel_13052\\31878173.py:1: DeprecationWarning: \n",
      "Pyarrow will become a required dependency of pandas in the next major release of pandas (pandas 3.0),\n",
      "(to allow more performant data types, such as the Arrow string type, and better interoperability with other libraries)\n",
      "but was not found to be installed on your system.\n",
      "If this would cause problems for you,\n",
      "please provide us feedback at https://github.com/pandas-dev/pandas/issues/54466\n",
      "        \n",
      "  import pandas as pd\n"
     ]
    }
   ],
   "source": [
    "import pandas as pd\n",
    "import datetime\n",
    "import pyomo.environ as pyomo\n",
    "import matplotlib.pyplot as plt\n",
    "import numpy as np\n",
    "import os"
   ]
  },
  {
   "cell_type": "code",
   "execution_count": 2,
   "metadata": {},
   "outputs": [
    {
     "name": "stdout",
     "output_type": "stream",
     "text": [
      "14.7\n"
     ]
    }
   ],
   "source": [
    "# Caracteriisticas do edificio\n",
    "\n",
    "A_wall_ext = {\n",
    "\n",
    "    1: 14.7,\n",
    "    2: 15.8,\n",
    "    3: 5.98,\n",
    "    4: 3.36,\n",
    "    5: 5,\n",
    "    6: 6.1,\n",
    "    7: 6.22,\n",
    "    8: 14.7,\n",
    "    9: 6.1,\n",
    "    10: 25.02\n",
    "} \n",
    "\n",
    "A_glass_ext = {\n",
    "\n",
    "    1: 3.3,\n",
    "    2: 2.2,\n",
    "    3: 1.1,\n",
    "    4: 0,\n",
    "    5: 2.2,\n",
    "    6: 1.1,\n",
    "    7: 1.1,\n",
    "    8: 3.3,\n",
    "    9: 1.1,\n",
    "    10: 3.3\n",
    "} \n",
    "\n",
    "U_wall_ext = 1.31\n",
    "U_glass_ext = 2.85\n",
    "\n",
    "A_wall_int = {\n",
    "\n",
    "    1: 13.5,\n",
    "    2: 12.24,\n",
    "    3: 20.76,\n",
    "    4: 24.48,\n",
    "    5: 17.92,\n",
    "    6: 17.92,\n",
    "    7: 20.44,\n",
    "    8: 7.68,\n",
    "    9: 17.26,\n",
    "    10: 23.16\n",
    "}\n",
    "\n",
    "A_glass_int = {\n",
    "\n",
    "    1: 4.5,\n",
    "    2: 5.76,\n",
    "    3: 7.44,\n",
    "    4: 0,\n",
    "    5: 10.4,\n",
    "    6: 10.4,\n",
    "    7: 8,\n",
    "    8: 10.32,\n",
    "    9: 11.34,\n",
    "    10: 16.08\n",
    "} \n",
    "\n",
    "U_wall_int = 2.31\n",
    "U_glass_int = 1.71\n",
    "\n",
    "print(A_wall_ext[1])\n",
    "#print(MA_wall * MA_wind)"
   ]
  },
  {
   "cell_type": "code",
   "execution_count": 3,
   "metadata": {},
   "outputs": [
    {
     "name": "stdout",
     "output_type": "stream",
     "text": [
      "3.6\n"
     ]
    }
   ],
   "source": [
    "# Matriz de contacto de sala (parede / janela)\n",
    "\n",
    "MA_wall = np.zeros([11,11])\n",
    "\n",
    "MA_wall[0] = [0, 6.3, 0, 0, 0, 0, 0, 0, 0, 3.6, 14.7]\n",
    "MA_wall[1] = [6.3, 0, 3.84, 0, 0, 0, 0, 0, 0, 0, 15.8]\n",
    "MA_wall[2] = [0, 3.84, 0, 10.56, 0, 0, 0, 0, 0, 3.64, 5.98]\n",
    "MA_wall[3] = [0, 0, 10.56, 0, 10.56, 0, 0, 0, 0, 3.36, 3.36]\n",
    "MA_wall[4] = [0, 0, 0, 10.56, 0, 3.52, 0, 0, 0, 3.84, 5]\n",
    "MA_wall[5] = [0, 0, 0, 0, 3.52, 0, 10.56, 0, 0, 3.84, 6.1]\n",
    "MA_wall[6] = [0, 0, 0, 0, 0, 10.56, 0, 5.92, 0, 3.96, 6.22]\n",
    "MA_wall[7] = [0, 0, 0, 0, 0, 0, 2.56, 0, 5.12, 0, 14.7]\n",
    "MA_wall[8] = [0, 0, 0, 0, 0, 0, 0, 5.28, 0, 1.04, 2.48]\n",
    "MA_wall[9] = [3.6, 0, 3.64, 3.36, 3.84, 3.84, 3.84, 0, 1.04, 0, 25.02]\n",
    "MA_wall[10] = [14.7, 15.8, 5.98, 3.36, 5, 6.1, 6.22, 14.7, 2.48, 25.02, 0]\n",
    "\n",
    "print(MA_wall[0,9]) "
   ]
  },
  {
   "cell_type": "code",
   "execution_count": 4,
   "metadata": {},
   "outputs": [
    {
     "name": "stdout",
     "output_type": "stream",
     "text": [
      "[0.  4.5 0.  0.  0.  0.  0.  0.  0.  0. ]\n"
     ]
    }
   ],
   "source": [
    "MA_glass = np.zeros([11,11])\n",
    "\n",
    "MA_glass[0] = [0, 4.5, 0, 0, 0, 0, 0, 0, 0, 0, 3.3]\n",
    "MA_glass[1] = [4.5, 0, 3.36, 0, 0, 0, 0, 0, 0, 0, 2.2]\n",
    "MA_glass[2] = [0, 3.36, 0, 0, 0, 0, 0, 0, 0, 3.44, 1.1]\n",
    "MA_glass[3] = [0, 0, 0, 0, 0, 0, 0, 0, 0, 0, 0]\n",
    "MA_glass[4] = [0, 0, 0, 0, 0, 7.04, 0, 0, 0, 3.36, 2.2]\n",
    "MA_glass[5] = [0, 0, 0, 0, 7.04, 0, 0, 0, 0, 3.36, 1.1]\n",
    "MA_glass[6] = [0, 0, 0, 0, 0, 0, 0, 4.64, 0, 3.36, 1.1]\n",
    "MA_glass[7] = [0, 0, 0, 0, 0, 0, 4.64, 0, 5.68, 0, 3.3]\n",
    "MA_glass[8] = [0, 0, 0, 0, 0, 0, 0, 5.52, 0, 2.56, 4.72]\n",
    "MA_glass[9] = [0, 0, 3.44, 0, 3.36, 3.36, 3.36, 0, 2.56, 0, 3.3]\n",
    "MA_glass[10] = [3.3, 2.2, 1.1, 0, 2.2, 1.1, 1.1, 3.3, 4.72, 3.3, 0]\n",
    "\n",
    "print(MA_glass[0,0:10])"
   ]
  },
  {
   "cell_type": "code",
   "execution_count": 5,
   "metadata": {},
   "outputs": [
    {
     "name": "stdout",
     "output_type": "stream",
     "text": [
      "19.49217164\n"
     ]
    }
   ],
   "source": [
    "# Dados HVAC\n",
    "filename = os.path.join('C:/temp',\"simul_input_b.csv\")\n",
    "df = pd.read_csv(filename)\n",
    "df.head() \n",
    "P_hvac = df[\"act_hvac\"][0:96]\n",
    "#plt.plot(P_hvac)\n",
    "print(P_hvac[32]) \n",
    "\n",
    "ON_hvac = np.zeros(96)\n",
    "ON_hvac[0:31] = 0\n",
    "ON_hvac[32:80] = 1\n",
    "ON_hvac[80:96] = 0"
   ]
  },
  {
   "cell_type": "code",
   "execution_count": 6,
   "metadata": {},
   "outputs": [],
   "source": [
    "# Dados Temperatura exterior (Teste inicial T=20C)\n",
    "T_ext = np.zeros(96)\n",
    "T_ext[0:96] = 20"
   ]
  },
  {
   "cell_type": "code",
   "execution_count": 7,
   "metadata": {},
   "outputs": [],
   "source": [
    "# Dados Edificio\n",
    "Mvc = 1\n",
    "Cv = 1\n",
    "\n",
    "# Qocu Calor proveniente dos ocupantes\n",
    "N_ocu = np.zeros((10,96))\n",
    "N_ocu[0:9] = 1\n",
    "q_ocu= 100\n",
    "\n",
    "# Qeq Calor proveniente dos aparelhos\n",
    "N_eq = np.zeros((10,96))\n",
    "N_eq[0:9] = 1\n",
    "q_eq = 150\n",
    "\n",
    "# Qlight Calor proveniente das luzes\n",
    "N_light = np.zeros((10,96))\n",
    "N_light[0:10] = 3\n",
    "q_light = 15\n",
    "\n",
    "# Delta t (15 minutos -> 0.25 hora)\n",
    "dt = 0.25\n",
    "\n",
    "# Valores dos parametros de optimização\n",
    "# Caso 1\n",
    "w = {\n",
    "    1: 0.151,\n",
    "    2: 0.143,\n",
    "    3: 0.353,\n",
    "    4: 0.207,\n",
    "    5: 0.128,\n",
    "    6: 0.735,\n",
    "    7: 0.741,\n",
    "    8: 0.034,\n",
    "    9: 0.604,\n",
    "    10: 0.574\n",
    "\n",
    "    #1: 0,\n",
    "    #2: 0,\n",
    "    #3: 0,\n",
    "    #4: 0,\n",
    "    #5: 0,\n",
    "    #6: 0,\n",
    "    #7: 0,\n",
    "    #8: 0,\n",
    "    #9: 0,\n",
    "    #10: 0\n",
    "}\n",
    "\n",
    "p = {\n",
    "    1: 0.042,\n",
    "    2: 0.795,\n",
    "    3: -0.169,\n",
    "    4: 0.122,\n",
    "    5: -0.201,\n",
    "    6: -0.035,\n",
    "    7: 1.532,\n",
    "    8: -0.094,\n",
    "    9: 1.651,\n",
    "    10: -0.086   \n",
    "}\n",
    "\n",
    "# caracteristica de cada divisão\n",
    "B1 = - ( A_wall_ext[1] * U_wall_ext + A_glass_ext[1] * U_glass_ext + A_wall_int[1] * U_wall_int + A_glass_int[1] * U_glass_int) / (Mvc *Cv)\n",
    "B2 = - ( A_wall_ext[2] * U_wall_ext + A_glass_ext[2] * U_glass_ext + A_wall_int[2] * U_wall_int + A_glass_int[2] * U_glass_int) / (Mvc *Cv)\n",
    "B3 = - ( A_wall_ext[3] * U_wall_ext + A_glass_ext[3] * U_glass_ext + A_wall_int[3] * U_wall_int + A_glass_int[3] * U_glass_int) / (Mvc *Cv)\n",
    "B4 = - ( A_wall_ext[4] * U_wall_ext + A_glass_ext[4] * U_glass_ext + A_wall_int[4] * U_wall_int + A_glass_int[4] * U_glass_int) / (Mvc *Cv)\n",
    "B5 = - ( A_wall_ext[5] * U_wall_ext + A_glass_ext[5] * U_glass_ext + A_wall_int[5] * U_wall_int + A_glass_int[5] * U_glass_int) / (Mvc *Cv)\n",
    "B6 = - ( A_wall_ext[6] * U_wall_ext + A_glass_ext[6] * U_glass_ext + A_wall_int[6] * U_wall_int + A_glass_int[6] * U_glass_int) / (Mvc *Cv)\n",
    "B7 = - ( A_wall_ext[7] * U_wall_ext + A_glass_ext[7] * U_glass_ext + A_wall_int[7] * U_wall_int + A_glass_int[7] * U_glass_int) / (Mvc *Cv)\n",
    "B8 = - ( A_wall_ext[8] * U_wall_ext + A_glass_ext[8] * U_glass_ext + A_wall_int[8] * U_wall_int + A_glass_int[8] * U_glass_int) / (Mvc *Cv)\n",
    "B9 = - ( A_wall_ext[9] * U_wall_ext + A_glass_ext[9] * U_glass_ext + A_wall_int[9] * U_wall_int + A_glass_int[9] * U_glass_int) / (Mvc *Cv)\n",
    "Bhall = - ( A_wall_ext[10] * U_wall_ext + A_glass_ext[10] * U_glass_ext + A_wall_int[10] * U_wall_int + A_glass_int[10] * U_glass_int) / (Mvc *Cv)\n",
    "\n",
    "B = [B1, B2, B3, B4, B5, B6, B7, B8, B9, Bhall]"
   ]
  },
  {
   "cell_type": "code",
   "execution_count": 19,
   "metadata": {},
   "outputs": [
    {
     "data": {
      "image/png": "[encoded data removed]",
      "text/plain": [
       "<Figure size 640x480 with 1 Axes>"
      ]
     },
     "metadata": {},
     "output_type": "display_data"
    }
   ],
   "source": [
    "# Thermal Heating Model\n",
    "def ter ( T0_1, T0_2, T0_3, T0_4, T0_5, T0_6, T0_7, T0_8, T0_9, T0_hall):\n",
    "    T_in = np.zeros((10,96))\n",
    "    T_in[0,0] = 20\n",
    "    T_in[1,0] = 20\n",
    "    T_in[2,0] = 20\n",
    "    T_in[3,0] = 20\n",
    "    T_in[4,0] = 20\n",
    "    T_in[5,0] = 20\n",
    "    T_in[6,0] = 20\n",
    "    T_in[7,0] = 20\n",
    "    T_in[8,0] = 20\n",
    "    T_in[9,0] = 20\n",
    "\n",
    "    for i in range(1,96):\n",
    "        for j in range(1,11):\n",
    "            Ca = T_ext[i-1] * (A_wall_ext[j] * U_wall_ext + A_glass_ext[j] * U_glass_ext)\n",
    "            Cb = np.sum( T_in[:,i-1] * ( MA_wall[j-1,0:10] * U_wall_int + MA_glass[j-1,0:10] * U_glass_int) )\n",
    "            Cc = N_eq[j-1,i] * q_eq + (P_hvac[i] * w[j]) * ON_hvac[i] + N_ocu[j-1,i] * q_ocu + N_light[j-1,i] * q_light\n",
    " \n",
    "            C = ( Ca + Cb + Cc ) * (1 / (Mvc *Cv))\n",
    "\n",
    "            T_in[j-1,i] = ( (T_in[j-1,i-1] * B[j-1] + C) * np.exp(B[j-1] *dt) - C ) / B[j-1] + p[j]\n",
    "\n",
    "    return T_in\n",
    "\n",
    "T_indoor = ter(1,2,3,4,5,6,7,8,9,10)\n",
    "\n",
    "nt = range(96)\n",
    "\n",
    "fig, ax = plt.subplots()\n",
    "ax.plot(nt, T_indoor[3])\n",
    "\n",
    "ax.set(xlabel='Timestep (15 min)', ylabel='Temperature (C)', title='Temperature room 101')\n",
    "\n",
    "fig.savefig(\"test.png\")\n",
    "plt.show()\n"
   ]
  },
  {
   "cell_type": "markdown",
   "metadata": {},
   "source": [
    "Auxiliar"
   ]
  },
  {
   "cell_type": "code",
   "execution_count": 9,
   "metadata": {},
   "outputs": [
    {
     "name": "stdout",
     "output_type": "stream",
     "text": [
      "1479.52\n"
     ]
    },
    {
     "ename": "ValueError",
     "evalue": "setting an array element with a sequence.",
     "output_type": "error",
     "traceback": [
      "\u001b[1;31m---------------------------------------------------------------------------\u001b[0m",
      "\u001b[1;31mTypeError\u001b[0m                                 Traceback (most recent call last)",
      "\u001b[1;31mTypeError\u001b[0m: only length-1 arrays can be converted to Python scalars",
      "\nThe above exception was the direct cause of the following exception:\n",
      "\u001b[1;31mValueError\u001b[0m                                Traceback (most recent call last)",
      "Cell \u001b[1;32mIn[9], line 22\u001b[0m\n\u001b[0;32m     18\u001b[0m C \u001b[38;5;241m=\u001b[39m ( Ca \u001b[38;5;241m+\u001b[39m Cb \u001b[38;5;241m+\u001b[39m Cc ) \u001b[38;5;241m*\u001b[39m (\u001b[38;5;241m1\u001b[39m \u001b[38;5;241m/\u001b[39m (Mvc \u001b[38;5;241m*\u001b[39mCv))\n\u001b[0;32m     20\u001b[0m \u001b[38;5;28mprint\u001b[39m(C)\n\u001b[1;32m---> 22\u001b[0m \u001b[43mT_in\u001b[49m\u001b[43m[\u001b[49m\u001b[38;5;241;43m0\u001b[39;49m\u001b[43m,\u001b[49m\u001b[38;5;241;43m1\u001b[39;49m\u001b[43m]\u001b[49m \u001b[38;5;241m=\u001b[39m ( (T_in[\u001b[38;5;241m0\u001b[39m,\u001b[38;5;241m0\u001b[39m] \u001b[38;5;241m*\u001b[39m B1 \u001b[38;5;241m+\u001b[39m C) \u001b[38;5;241m*\u001b[39m np\u001b[38;5;241m.\u001b[39mexp(B1 \u001b[38;5;241m*\u001b[39mdt) \u001b[38;5;241m-\u001b[39m C ) \u001b[38;5;241m/\u001b[39m B \u001b[38;5;241m+\u001b[39m p[\u001b[38;5;241m1\u001b[39m]\n",
      "\u001b[1;31mValueError\u001b[0m: setting an array element with a sequence."
     ]
    }
   ],
   "source": [
    "#calculo C\n",
    "T_in = np.zeros((10,96))\n",
    "T_in[0,0] = 20\n",
    "T_in[1,0] = 20\n",
    "T_in[2,0] = 20\n",
    "T_in[3,0] = 20\n",
    "T_in[4,0] = 20\n",
    "T_in[5,0] = 20\n",
    "T_in[6,0] = 20\n",
    "T_in[7,0] = 20\n",
    "T_in[8,0] = 20\n",
    "T_in[9,0] = 20\n",
    "\n",
    "Ca = T_ext[0] * (A_wall_ext[1] * U_wall_ext + A_glass_ext[1] * U_glass_ext)\n",
    "Cb = np.sum( T_in[:,0] * ( MA_wall[0,0:10] * U_wall_int + MA_glass[0,0:10] * U_glass_int) )\n",
    "Cc = N_eq[0,0] * q_eq + (P_hvac[0] * w[1]) * ON_hvac[0] + N_ocu[0,0] * q_ocu + N_light[0,0] * q_light\n",
    " \n",
    "C = ( Ca + Cb + Cc ) * (1 / (Mvc *Cv))\n",
    "\n",
    "print(C)\n",
    "\n",
    "T_in[0,1] = ( (T_in[0,0] * B1 + C) * np.exp(B1 *dt) - C ) / B + p[1]\n"
   ]
  },
  {
   "cell_type": "code",
   "execution_count": null,
   "metadata": {},
   "outputs": [
    {
     "name": "stdout",
     "output_type": "stream",
     "text": [
      "[[-0.071655 -0.12304  -0.027422 -0.011004 -0.03205  -0.027815 -0.028208\n",
      "  -0.071655 -0.041752 -0.126243]\n",
      " [-0.127275 -0.06742  -0.063962 -0.011004 -0.03205  -0.027815 -0.028208\n",
      "  -0.071655 -0.041752 -0.105453]\n",
      " [-0.071655 -0.10396  -0.027422 -0.071988 -0.03205  -0.027815 -0.028208\n",
      "  -0.071655 -0.041752 -0.14118 ]\n",
      " [-0.071655 -0.06742  -0.088406 -0.011004 -0.093034 -0.027815 -0.028208\n",
      "  -0.071655 -0.041752 -0.124857]\n",
      " [-0.071655 -0.06742  -0.027422 -0.071988 -0.03205  -0.078239 -0.028208\n",
      "  -0.071655 -0.041752 -0.141993]\n",
      " [-0.071655 -0.06742  -0.027422 -0.011004 -0.082474 -0.027815 -0.089192\n",
      "  -0.071655 -0.041752 -0.141993]\n",
      " [-0.071655 -0.06742  -0.027422 -0.011004 -0.03205  -0.088799 -0.028208\n",
      "  -0.125679 -0.041752 -0.142686]\n",
      " [-0.071655 -0.06742  -0.027422 -0.011004 -0.03205  -0.027815 -0.062828\n",
      "  -0.071655 -0.095602 -0.105453]\n",
      " [-0.071655 -0.06742  -0.027422 -0.011004 -0.03205  -0.027815 -0.028208\n",
      "  -0.125745 -0.041752 -0.122403]\n",
      " [-0.092445 -0.06742  -0.063149 -0.030408 -0.06859  -0.064355 -0.064748\n",
      "  -0.071655 -0.058702 -0.105453]]\n",
      "-0.168855\n"
     ]
    }
   ],
   "source": [
    "Btreino = - (MA_wall[10,0:10] * U_wall_ext + MA_glass[10,0:10] * U_glass_ext + MA_wall[0:10,0:10] * U_wall_int + MA_glass[0:10,0:10] * U_glass_int) / (Mvc *Cv)\n",
    "print(Btreino)\n",
    "\n",
    "\n",
    "\n",
    "# -------------------------- --------------#\n",
    "Bt = - (MA_wall[10,0] * U_wall_ext + MA_glass[10,0] * U_glass_ext + MA_wall[0:10,0] * U_wall_int + MA_glass[0:10,0] * U_glass_int) / (Mvc *Cv)\n",
    "print(Bt)\n",
    "\n",
    "#MA_wall[10,0] * U_wall_ext\n",
    "#MA_glass[10,0] * U_glass_ext\n",
    "\n",
    "#MA_wall[0:10,0] * U_wall_int\n",
    "#MA_glass[0:10,0] * U_glass_int\n",
    "MA_wall[10,0] * U_wall_ext + MA_glass[10,0] * U_glass_ext + MA_wall[0:10,0] * U_wall_int + MA_glass[0:10,0] * U_glass_int\n",
    "MA_wall[0:10,0] * U_wall_int + MA_glass[0:10,0] * U_glass_int"
   ]
  },
  {
   "cell_type": "code",
   "execution_count": null,
   "metadata": {},
   "outputs": [
    {
     "name": "stdout",
     "output_type": "stream",
     "text": [
      "[-0.071655 -0.127275 -0.071655 -0.071655 -0.071655 -0.071655 -0.071655\n",
      " -0.071655 -0.071655 -0.092445]\n",
      "[ 0.    14.553  0.     0.     0.     0.     0.     0.     0.     8.316]\n",
      "[0.    7.695 0.    0.    0.    0.    0.    0.    0.    0.   ]\n",
      "[ 0.    22.248  0.     0.     0.     0.     0.     0.     0.     8.316]\n"
     ]
    }
   ],
   "source": [
    "B1 = - (MA_wall[10,0] * U_wall_ext + MA_glass[10,0] * U_glass_ext + MA_wall[0:10,0] * U_wall_int + MA_glass[0:10,0] * U_glass_int) / (Mvc *Cv)\n",
    "print(B1)\n",
    "\n",
    "#MA_wall[10,0] * U_wall_ext\n",
    "#MA_glass[10,0] * U_glass_ext\n",
    "\n",
    "#MA_wall[0:10,0] * U_wall_int\n",
    "#MA_glass[0:10,0] * U_glass_int\n",
    "MA_wall[10,0] * U_wall_ext + MA_glass[10,0] * U_glass_ext + MA_wall[0:10,0] * U_wall_int + MA_glass[0:10,0] * U_glass_int\n",
    "MA_wall[0:10,0] * U_wall_int + MA_glass[0:10,0] * U_glass_int\n",
    "\n",
    "print(MA_wall[0:10,0] * U_wall_int)\n",
    "print(MA_glass[0:10,0] * U_glass_int)\n",
    "print(MA_wall[0:10,0] * U_wall_int + MA_glass[0:10,0] * U_glass_int)"
   ]
  }
 ],
 "metadata": {
  "kernelspec": {
   "display_name": "Python 3",
   "language": "python",
   "name": "python3"
  },
  "language_info": {
   "codemirror_mode": {
    "name": "ipython",
    "version": 3
   },
   "file_extension": ".py",
   "mimetype": "text/x-python",
   "name": "python",
   "nbconvert_exporter": "python",
   "pygments_lexer": "ipython3",
   "version": "3.10.11"
  }
 },
 "nbformat": 4,
 "nbformat_minor": 2
}
