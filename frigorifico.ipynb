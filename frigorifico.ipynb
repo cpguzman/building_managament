{
 "cells": [
  {
   "cell_type": "code",
   "execution_count": 9,
   "metadata": {},
   "outputs": [],
   "source": [
    "import pandas as pd\n",
    "import datetime\n",
    "import pyomo.environ as pyomo\n",
    "import matplotlib.pyplot as plt\n",
    "import numpy as np"
   ]
  },
  {
   "cell_type": "code",
   "execution_count": 10,
   "metadata": {},
   "outputs": [
    {
     "data": {
      "text/plain": [
       "[<matplotlib.lines.Line2D at 0x2a19926b340>]"
      ]
     },
     "execution_count": 10,
     "metadata": {},
     "output_type": "execute_result"
    },
    {
     "data": {
      "image/png": "[encoded data removed]",
      "text/plain": [
       "<Figure size 640x480 with 1 Axes>"
      ]
     },
     "metadata": {},
     "output_type": "display_data"
    }
   ],
   "source": [
    "price_schedule = {\n",
    "    0 : 0.5,\n",
    "    1 : 0.4,\n",
    "    2 : 0.3,\n",
    "    3 : 0.5,\n",
    "    4 : 5,\n",
    "    5 : 1.1,\n",
    "    6 : 1.8,\n",
    "    7 : 1.5,\n",
    "    8 : 0.9,\n",
    "    9 : 0.8,\n",
    "    10 : 0.8,\n",
    "    11 : 0.6,\n",
    "    12: 2.8\n",
    "}\n",
    "\n",
    "Temp_out ={\n",
    "    0 : 20,\n",
    "    1 : 20,\n",
    "    2 : 20,\n",
    "    3 : 20,\n",
    "    4 : 20,\n",
    "    5 : 20,\n",
    "    6 : 20,\n",
    "    7 : 20,\n",
    "    8 : 20,\n",
    "    9 : 20,\n",
    "    10 : 20,\n",
    "    11 : 20,\n",
    "    12: 20\n",
    "}\n",
    "\n",
    "\n",
    "T_room0 = 3.5\n",
    "T_roomax = 5\n",
    "T_roomin = 1\n",
    "\n",
    "A_ins = 3.21\n",
    "mc_thmass = 30\n",
    "\n",
    "cop_hvac = 3\n",
    "P_hvac = 30\n",
    "\n",
    "dt = 1\n",
    "\n",
    "epsilon = np.exp((-dt * A_ins)/mc_thmass)\n",
    "\n",
    "\n",
    "\n",
    "load_profile = 200\n",
    "\n",
    "plt.plot(range(13),[price_schedule[i] for i in range (13)])"
   ]
  },
  {
   "cell_type": "code",
   "execution_count": 11,
   "metadata": {},
   "outputs": [],
   "source": [
    "model = pyomo.ConcreteModel()\n",
    "\n",
    "# -------------------- Parameters and constant information\n",
    "# Nº time steps\n",
    "model.nt = pyomo.Param(initialize = len(price_schedule), domain = pyomo.Integers)\n",
    "# Set of time steps\n",
    "model.T = pyomo.Set(initialize = range(model.nt()))\n",
    "# Price of electricity at each time step\n",
    "model.price = pyomo.Param(model.T, initialize = price_schedule)\n",
    "# Temp outside\n",
    "model.T_out = pyomo.Param(model.T, initialize = Temp_out)\n",
    "\n",
    "model.T_0 = pyomo.Param( initialize = T_room0)\n",
    "model.T_max = pyomo.Param( initialize = T_roomax)\n",
    "model.T_min = pyomo.Param( initialize = T_roomin)\n",
    "\n",
    "model.A = pyomo.Param( initialize = A_ins)\n",
    "model.mc_tmass = pyomo.Param( initialize = mc_thmass)\n",
    "\n",
    "model.cop = pyomo.Param( initialize = cop_hvac)\n",
    "model.P_r = pyomo.Param( initialize = P_hvac)\n",
    "\n",
    "model.deltat = pyomo.Param( initialize = dt)\n",
    "\n",
    "model.e = pyomo.Param(initialize = epsilon)\n",
    "\n",
    "# -------------------- Variables\n",
    "# Load activity flag\n",
    "model.w = pyomo.Var(model.T, domain = pyomo.Binary)\n",
    "# Temperature inside\n",
    "model.t_i = pyomo.Var(model.T)\n",
    "\n",
    "#model.heat = pyomo.Var(model.T)\n",
    "#model.wh = pyomo.Var(model.T, domain = pyomo.Binary)\n",
    "\n",
    "#model.P = pyomo.Param(model.T)\n",
    "\n",
    "# -------------------- Objective Function\n",
    "def objective_func(model):\n",
    "    # sum the price of electricity purchased for all timesteps\n",
    "    return sum([model.w[t] * model.price[t] * model.P_r for t in model.T])\n",
    "    #return sum([model.w[t] * model.price[t] * model.P[t] + model.wh[t] * model.price[t] * model.P[t] for t in model.T])\n",
    "model.objective = pyomo.Objective(rule = objective_func, sense = pyomo.minimize)\n",
    "\n",
    "\n",
    "# --------------------- Constraints\n",
    "\n",
    "# Temperature balance\n",
    "\n",
    "def temp_history(model, t):\n",
    "    if t==0:\n",
    "        # inicial temperature\n",
    "        return model.t_i[t] == model.T_0\n",
    "    else:\n",
    "        #return model.t_i[t] == (model.t_i[t-1] - model.T_out[t] - model.heat[t]) * model.e + model.heat[t-1] + model.T_out[t-1] - (model.w[t-1]*model.cop*model.P[t]*((1-model.e)/model.A) + model.w[t]*model.cop*model.P[t]*((1-model.e)/model.A))\n",
    "        return model.t_i[t] == (model.t_i[t-1] - model.T_out[t]) * model.e + model.T_out[t-1] - (model.w[t-1]*model.cop*model.P_r*((1-model.e)/model.A) + model.w[t]*model.cop*model.P_r*((1-model.e)/model.A))\n",
    "model.temp_history = pyomo.Constraint(model.T, rule = temp_history)\n",
    "\n",
    "def max_temp (model,t):\n",
    "    return model.t_i[t]  <= model.T_max\n",
    "model.max_temp = pyomo.Constraint(model.T, rule = max_temp)\n",
    "\n",
    "def min_temp (model,t):\n",
    "    return model.t_i[t] >= model.T_min\n",
    "model.min_temp = pyomo.Constraint(model.T, rule = min_temp)\n",
    "\n",
    "#def pmax(model,t):\n",
    "#    if t==0:\n",
    "#        return model.P_r == 0\n",
    "#    else:\n",
    "#        return model.P_r <= model.P_r\n",
    "#model.pmax = pyomo.Constraint(model.T, rule = pmax)"
   ]
  },
  {
   "cell_type": "code",
   "execution_count": 12,
   "metadata": {},
   "outputs": [
    {
     "name": "stdout",
     "output_type": "stream",
     "text": [
      "Solver script file=C:\\Users\\JPSM1\\AppData\\Local\\Temp\\tmpqeanlk05.cplex.script\n",
      "Solver log file: 'solve.log'\n",
      "Solver solution file: 'C:\\Users\\JPSM1\\AppData\\Local\\Temp\\tmp8c_vzlo9.cplex.sol'\n",
      "Solver problem files: ('C:\\\\Users\\\\JPSM1\\\\AppData\\\\Local\\\\Temp\\\\tmp2u21jcs6.pyomo.lp',)\n"
     ]
    }
   ],
   "source": [
    "# set up solver\n",
    "solver = pyomo.SolverFactory('cplex', executable = \"C:\\\\Program Files\\\\IBM\\\\ILOG\\\\CPLEX_Studio2211\\\\cplex\\\\bin\\\\x64_win64\\\\cplex.exe\")\n",
    "# run the simulation\n",
    "results = solver.solve(model, keepfiles = True, logfile = \"solve.log\")"
   ]
  },
  {
   "cell_type": "code",
   "execution_count": 13,
   "metadata": {},
   "outputs": [
    {
     "name": "stdout",
     "output_type": "stream",
     "text": [
      "Model unknown\n",
      "\n",
      "  Variables:\n",
      "    w : Size=13, Index=T\n",
      "        Key : Lower : Value : Upper : Fixed : Stale : Domain\n",
      "          0 :     0 :   0.0 :     1 : False : False : Binary\n",
      "          1 :     0 :   1.0 :     1 : False : False : Binary\n",
      "          2 :     0 :   0.0 :     1 : False : False : Binary\n",
      "          3 :     0 :   0.0 :     1 : False : False : Binary\n",
      "          4 :     0 :  -0.0 :     1 : False : False : Binary\n",
      "          5 :     0 :   1.0 :     1 : False : False : Binary\n",
      "          6 :     0 :  -0.0 :     1 : False : False : Binary\n",
      "          7 :     0 :  -0.0 :     1 : False : False : Binary\n",
      "          8 :     0 :   1.0 :     1 : False : False : Binary\n",
      "          9 :     0 :  -0.0 :     1 : False : False : Binary\n",
      "         10 :     0 :  -0.0 :     1 : False : False : Binary\n",
      "         11 :     0 :   1.0 :     1 : False : False : Binary\n",
      "         12 :     0 :  -0.0 :     1 : False : False : Binary\n",
      "    t_i : Size=13, Index=T\n",
      "        Key : Lower : Value              : Upper : Fixed : Stale : Domain\n",
      "          0 :  None :                3.5 :  None : False : False :  Reals\n",
      "          1 :  None : 2.3292518066031036 :  None : False : False :  Reals\n",
      "          2 :  None : 1.2773044982289736 :  None : False : False :  Reals\n",
      "          3 :  None : 3.1771774240786224 :  None : False : False :  Reals\n",
      "          4 :  None :   4.88426202337374 :  None : False : False :  Reals\n",
      "          5 :  None : 3.5730467727499153 :  None : False : False :  Reals\n",
      "          6 :  None : 2.3948862072479917 :  None : False : False :  Reals\n",
      "          7 :  None :  4.181353281296592 :  None : False : False :  Reals\n",
      "          8 :  None :  2.941465222224277 :  None : False : False :  Reals\n",
      "          9 :  None :  1.827393969513682 :  None : False : False :  Reals\n",
      "         10 :  None :  3.671446936469597 :  None : False : False :  Reals\n",
      "         11 :  None :  2.483301280576575 :  None : False : False :  Reals\n",
      "         12 :  None : 1.4157219055047894 :  None : False : False :  Reals\n",
      "\n",
      "  Objectives:\n",
      "    objective : Size=1, Index=None, Active=True\n",
      "        Key  : Active : Value\n",
      "        None :   True :  90.0\n",
      "\n",
      "  Constraints:\n",
      "    temp_history : Size=13\n",
      "        Key : Lower : Body                    : Upper\n",
      "          0 :   3.5 :                     3.5 :   3.5\n",
      "          1 :   0.0 :                     0.0 :   0.0\n",
      "          2 :   0.0 :                     0.0 :   0.0\n",
      "          3 :   0.0 :   8.881784197001252e-16 :   0.0\n",
      "          4 :   0.0 :  1.7763568394002505e-15 :   0.0\n",
      "          5 :   0.0 :                     0.0 :   0.0\n",
      "          6 :   0.0 :   8.881784197001252e-16 :   0.0\n",
      "          7 :   0.0 :  -8.881784197001252e-16 :   0.0\n",
      "          8 :   0.0 :                     0.0 :   0.0\n",
      "          9 :   0.0 :  -4.440892098500626e-16 :   0.0\n",
      "         10 :   0.0 :   4.440892098500626e-16 :   0.0\n",
      "         11 :   0.0 :   4.440892098500626e-16 :   0.0\n",
      "         12 :   0.0 : -1.3322676295501878e-15 :   0.0\n",
      "    max_temp : Size=13\n",
      "        Key : Lower : Body               : Upper\n",
      "          0 :  None :                3.5 :   5.0\n",
      "          1 :  None : 2.3292518066031036 :   5.0\n",
      "          2 :  None : 1.2773044982289736 :   5.0\n",
      "          3 :  None : 3.1771774240786224 :   5.0\n",
      "          4 :  None :   4.88426202337374 :   5.0\n",
      "          5 :  None : 3.5730467727499153 :   5.0\n",
      "          6 :  None : 2.3948862072479917 :   5.0\n",
      "          7 :  None :  4.181353281296592 :   5.0\n",
      "          8 :  None :  2.941465222224277 :   5.0\n",
      "          9 :  None :  1.827393969513682 :   5.0\n",
      "         10 :  None :  3.671446936469597 :   5.0\n",
      "         11 :  None :  2.483301280576575 :   5.0\n",
      "         12 :  None : 1.4157219055047894 :   5.0\n",
      "    min_temp : Size=13\n",
      "        Key : Lower : Body               : Upper\n",
      "          0 :   1.0 :                3.5 :  None\n",
      "          1 :   1.0 : 2.3292518066031036 :  None\n",
      "          2 :   1.0 : 1.2773044982289736 :  None\n",
      "          3 :   1.0 : 3.1771774240786224 :  None\n",
      "          4 :   1.0 :   4.88426202337374 :  None\n",
      "          5 :   1.0 : 3.5730467727499153 :  None\n",
      "          6 :   1.0 : 2.3948862072479917 :  None\n",
      "          7 :   1.0 :  4.181353281296592 :  None\n",
      "          8 :   1.0 :  2.941465222224277 :  None\n",
      "          9 :   1.0 :  1.827393969513682 :  None\n",
      "         10 :   1.0 :  3.671446936469597 :  None\n",
      "         11 :   1.0 :  2.483301280576575 :  None\n",
      "         12 :   1.0 : 1.4157219055047894 :  None\n",
      "None\n",
      "time\tprice\tflagw\n",
      "0\t0.50\tw[0]\n",
      "1\t0.40\tw[1]\n",
      "2\t0.30\tw[2]\n",
      "3\t0.50\tw[3]\n",
      "4\t5.00\tw[4]\n",
      "5\t1.10\tw[5]\n",
      "6\t1.80\tw[6]\n",
      "7\t1.50\tw[7]\n",
      "8\t0.90\tw[8]\n",
      "9\t0.80\tw[9]\n",
      "10\t0.80\tw[10]\n",
      "11\t0.60\tw[11]\n",
      "12\t2.80\tw[12]\n"
     ]
    }
   ],
   "source": [
    "print(model.display())\n",
    "print(f\"time\\tprice\\tflagw\")\n",
    "for t in model.T:\n",
    "    print(f'{t}\\t{model.price[t]:.2f}\\t{model.w[t]}')"
   ]
  },
  {
   "cell_type": "code",
   "execution_count": 14,
   "metadata": {},
   "outputs": [
    {
     "data": {
      "image/png": "[encoded data removed]",
      "text/plain": [
       "<Figure size 640x480 with 2 Axes>"
      ]
     },
     "metadata": {},
     "output_type": "display_data"
    }
   ],
   "source": [
    "# plot results\n",
    "plt.bar(range(model.nt()), [model.w[t]()*model.P_r for t in model.T], label = \"power\") \n",
    "plt.ylabel(\"Power\")\n",
    "plt.xlabel(\"Time\")\n",
    "plt.legend(loc=2)\n",
    "ax = plt.gca().twinx()\n",
    "ax.plot(range(model.nt()), [model.price[t] for t in model.T], label = \"price\", color='red', marker='o')\n",
    "ax.set_ylabel(\"Price\")\n",
    "plt.legend()\n",
    "\n",
    "plt.show()\n"
   ]
  },
  {
   "cell_type": "code",
   "execution_count": 15,
   "metadata": {},
   "outputs": [
    {
     "name": "stdout",
     "output_type": "stream",
     "text": [
      "for index 0 X[0] is: 3.5\n",
      "for index 1 X[1] is: 2.3292518066031036\n",
      "for index 2 X[2] is: 1.2773044982289736\n",
      "for index 3 X[3] is: 3.1771774240786224\n",
      "for index 4 X[4] is: 4.88426202337374\n",
      "for index 5 X[5] is: 3.5730467727499153\n",
      "for index 6 X[6] is: 2.3948862072479917\n",
      "for index 7 X[7] is: 4.181353281296592\n",
      "for index 8 X[8] is: 2.941465222224277\n",
      "for index 9 X[9] is: 1.827393969513682\n",
      "for index 10 X[10] is: 3.671446936469597\n",
      "for index 11 X[11] is: 2.483301280576575\n",
      "for index 12 X[12] is: 1.4157219055047894\n",
      "0     3.500000\n",
      "1     2.329252\n",
      "2     1.277304\n",
      "3     3.177177\n",
      "4     4.884262\n",
      "5     3.573047\n",
      "6     2.394886\n",
      "7     4.181353\n",
      "8     2.941465\n",
      "9     1.827394\n",
      "10    3.671447\n",
      "11    2.483301\n",
      "12    1.415722\n",
      "Name: t_i, dtype: float64\n"
     ]
    },
    {
     "data": {
      "image/png": "[encoded data removed]",
      "text/plain": [
       "<Figure size 640x480 with 1 Axes>"
      ]
     },
     "metadata": {},
     "output_type": "display_data"
    }
   ],
   "source": [
    "for s in model.T:\n",
    "    print(f'for index {s} X[{s}] is: {model.t_i[s].value}')\n",
    "\n",
    "x_vals = pd.Series(model.t_i.extract_values(), name=model.t_i.name)\n",
    "print(x_vals)\n",
    "\n",
    "x = x_vals[0]\n",
    "y = x_vals[1]\n",
    "plt.plot(x,y)\n",
    "plt.show()"
   ]
  },
  {
   "cell_type": "code",
   "execution_count": 16,
   "metadata": {},
   "outputs": [
    {
     "data": {
      "image/png": "[encoded data removed]",
      "text/plain": [
       "<Figure size 640x480 with 1 Axes>"
      ]
     },
     "metadata": {},
     "output_type": "display_data"
    }
   ],
   "source": [
    "x = range(13)\n",
    "y = x_vals\n",
    "plt.bar(x,y)\n",
    "plt.show()"
   ]
  }
 ],
 "metadata": {
  "kernelspec": {
   "display_name": "Python 3",
   "language": "python",
   "name": "python3"
  },
  "language_info": {
   "codemirror_mode": {
    "name": "ipython",
    "version": 3
   },
   "file_extension": ".py",
   "mimetype": "text/x-python",
   "name": "python",
   "nbconvert_exporter": "python",
   "pygments_lexer": "ipython3",
   "version": "3.10.11"
  }
 },
 "nbformat": 4,
 "nbformat_minor": 2
}
